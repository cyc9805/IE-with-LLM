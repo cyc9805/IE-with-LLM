{
 "cells": [
  {
   "cell_type": "code",
   "execution_count": 2,
   "metadata": {},
   "outputs": [],
   "source": [
    "text = 'assistant\\n\\nHere is the output:\\n\\n{\\n  \"x\": [\"Speaker 1\", \"Speaker 2\", \"Speaker 2\", \"Speaker 4\", \"Speaker 2\", \"Speaker 1\", \"Speaker 3\", \"Speaker 4\", \"Speaker 3\", \"Speaker 4\", \"Speaker 4\", \"Speaker 2\", \"Speaker 4\", \"Speaker 2\"],\\n  \"y\": [\"Speaker 1\", \"Speaker 2\", \"Speaker 4\", \"Chandler Bing\", \"Tom Gordon\", \"Ross\", \"Speaker 3\", \"Speaker 4\", \"Speaker 3\", \"Speaker 4\", \"Speaker 4\", \"Tommy\", \"Speaker 2\", \"Speaker 4\"],\\n  \"x_type\": [\"PER\", \"PER\", \"PER\", \"PER\", \"PER\", \"PER\", \"PER\", \"PER\", \"PER\", \"PER\", \"PER\", \"PER\", \"PER\", \"PER\"],\\n  \"y_type\": [\"PER\", \"PER\", \"PER\", \"PER\", \"PER\", \"PER\", \"PER\", \"PER\", \"PER\", \"PER\", \"PER\", \"PER\", \"PER\", \"PER\"],\\n  \"r\": [[\"per:alternate_names\"], [\"per:alumni\"], [\"per:alumni\"], [\"per:alternate_names\", \"per:positive_impression\"], [\"per:alternate_names\"], [\"unanswerable\"], [\"per:positive_impression\"], [\"per:alternate_names\"], [\"per:positive_impression\"], [\"per:alternate_names\"], [\"per:alternate_names\"], [\"unanswerable\"], [\"per:positive_impression\"]],\\n  \"rid\": [[30], [4], [4], [30, 1], [30], [37], [1], [30], [1], [30], [30], [37], [1]],\\n  \"t\": [[\"\"], [\"\", \"call me\"], [\"\", \"bye bye!!\"], [\"\", \"call me\"], [\"\", \"call me\"], [\"\", \"call me\"], [\"\", \"call me\"], [\"\", \"call me\"], [\"\", \"call me\"], [\"\", \"call me\"], [\"\", \"call me\"], [\"\", \"call me\"], [\"\"]]\\n}'"
   ]
  },
  {
   "cell_type": "code",
   "execution_count": 3,
   "metadata": {},
   "outputs": [
    {
     "data": {
      "text/plain": [
       "'{\\n  \"x\": [\"Speaker 1\", \"Speaker 2\", \"Speaker 2\", \"Speaker 4\", \"Speaker 2\", \"Speaker 1\", \"Speaker 3\", \"Speaker 4\", \"Speaker 3\", \"Speaker 4\", \"Speaker 4\", \"Speaker 2\", \"Speaker 4\", \"Speaker 2\"],\\n  \"y\": [\"Speaker 1\", \"Speaker 2\", \"Speaker 4\", \"Chandler Bing\", \"Tom Gordon\", \"Ross\", \"Speaker 3\", \"Speaker 4\", \"Speaker 3\", \"Speaker 4\", \"Speaker 4\", \"Tommy\", \"Speaker 2\", \"Speaker 4\"],\\n  \"x_type\": [\"PER\", \"PER\", \"PER\", \"PER\", \"PER\", \"PER\", \"PER\", \"PER\", \"PER\", \"PER\", \"PER\", \"PER\", \"PER\", \"PER\"],\\n  \"y_type\": [\"PER\", \"PER\", \"PER\", \"PER\", \"PER\", \"PER\", \"PER\", \"PER\", \"PER\", \"PER\", \"PER\", \"PER\", \"PER\", \"PER\"],\\n  \"r\": [[\"per:alternate_names\"], [\"per:alumni\"], [\"per:alumni\"], [\"per:alternate_names\", \"per:positive_impression\"], [\"per:alternate_names\"], [\"unanswerable\"], [\"per:positive_impression\"], [\"per:alternate_names\"], [\"per:positive_impression\"], [\"per:alternate_names\"], [\"per:alternate_names\"], [\"unanswerable\"], [\"per:positive_impression\"]],\\n  \"rid\": [[30], [4], [4], [30, 1], [30], [37], [1], [30], [1], [30], [30], [37], [1]],\\n  \"t\": [[\"\"], [\"\", \"call me\"], [\"\", \"bye bye!!\"], [\"\", \"call me\"], [\"\", \"call me\"], [\"\", \"call me\"], [\"\", \"call me\"], [\"\", \"call me\"], [\"\", \"call me\"], [\"\", \"call me\"], [\"\", \"call me\"], [\"\", \"call me\"], [\"\"]]\\n}'"
      ]
     },
     "execution_count": 3,
     "metadata": {},
     "output_type": "execute_result"
    }
   ],
   "source": [
    "import json\n",
    "import re\n",
    "lstripped = text[text.find('{'):]\n",
    "text = lstripped[:lstripped.rfind('}')+1]\n",
    "text"
   ]
  },
  {
   "cell_type": "code",
   "execution_count": 5,
   "metadata": {},
   "outputs": [],
   "source": [
    "import evaluate\n",
    "ref_text = '{ \"x\": [ \"Speaker 2\", \"Speaker 2\", \"Speaker 4\", \"Speaker 4\", \"Speaker 4\", \"Speaker 1\" ], \"y\": [ \"Chandler Bing\", \"Speaker 4\", \"Tom Gordon\", \"Speaker 2\", \"Tommy\", \"Tommy\" ], \"x_type\": [ \"PER\", \"PER\", \"PER\", \"PER\", \"PER\", \"PER\" ], \"y_type\": [ \"PER\", \"PER\", \"PER\", \"PER\", \"PER\", \"PER\" ], \"r\": [ [ \"per:alternate_names\" ], [ \"per:alumni\" ], [ \"per:alternate_names\" ], [ \"per:alumni\", \"per:positive_impression\" ], [ \"per:alternate_names\" ], [ \"unanswerable\" ] ], \"rid\": [ [ 30 ], [ 4 ], [ 30 ], [ 4, 1 ], [ 30 ], [ 37 ] ], \"t\": [ [ \"\" ], [ \"\" ], [ \"\" ], [ \"\", \"call me\" ], [ \"\" ], [ \"\" ] ] }'\n",
    "ref = json.loads(ref_text)\n",
    "prediction = json.loads(text)"
   ]
  },
  {
   "cell_type": "code",
   "execution_count": 6,
   "metadata": {},
   "outputs": [
    {
     "name": "stdout",
     "output_type": "stream",
     "text": [
      "{'x': ['Speaker 2', 'Speaker 2', 'Speaker 4', 'Speaker 4', 'Speaker 4', 'Speaker 1'], 'y': ['Chandler Bing', 'Speaker 4', 'Tom Gordon', 'Speaker 2', 'Tommy', 'Tommy'], 'x_type': ['PER', 'PER', 'PER', 'PER', 'PER', 'PER'], 'y_type': ['PER', 'PER', 'PER', 'PER', 'PER', 'PER'], 'r': [['per:alternate_names'], ['per:alumni'], ['per:alternate_names'], ['per:alumni', 'per:positive_impression'], ['per:alternate_names'], ['unanswerable']], 'rid': [[30], [4], [30], [4, 1], [30], [37]], 't': [[''], [''], [''], ['', 'call me'], [''], ['']]}\n"
     ]
    }
   ],
   "source": [
    "print(ref)"
   ]
  },
  {
   "cell_type": "code",
   "execution_count": 7,
   "metadata": {},
   "outputs": [
    {
     "name": "stdout",
     "output_type": "stream",
     "text": [
      "{'x': ['Speaker 1', 'Speaker 2', 'Speaker 2', 'Speaker 4', 'Speaker 2', 'Speaker 1', 'Speaker 3', 'Speaker 4', 'Speaker 3', 'Speaker 4', 'Speaker 4', 'Speaker 2', 'Speaker 4', 'Speaker 2'], 'y': ['Speaker 1', 'Speaker 2', 'Speaker 4', 'Chandler Bing', 'Tom Gordon', 'Ross', 'Speaker 3', 'Speaker 4', 'Speaker 3', 'Speaker 4', 'Speaker 4', 'Tommy', 'Speaker 2', 'Speaker 4'], 'x_type': ['PER', 'PER', 'PER', 'PER', 'PER', 'PER', 'PER', 'PER', 'PER', 'PER', 'PER', 'PER', 'PER', 'PER'], 'y_type': ['PER', 'PER', 'PER', 'PER', 'PER', 'PER', 'PER', 'PER', 'PER', 'PER', 'PER', 'PER', 'PER', 'PER'], 'r': [['per:alternate_names'], ['per:alumni'], ['per:alumni'], ['per:alternate_names', 'per:positive_impression'], ['per:alternate_names'], ['unanswerable'], ['per:positive_impression'], ['per:alternate_names'], ['per:positive_impression'], ['per:alternate_names'], ['per:alternate_names'], ['unanswerable'], ['per:positive_impression']], 'rid': [[30], [4], [4], [30, 1], [30], [37], [1], [30], [1], [30], [30], [37], [1]], 't': [[''], ['', 'call me'], ['', 'bye bye!!'], ['', 'call me'], ['', 'call me'], ['', 'call me'], ['', 'call me'], ['', 'call me'], ['', 'call me'], ['', 'call me'], ['', 'call me'], ['', 'call me'], ['']]}\n"
     ]
    }
   ],
   "source": [
    "print(prediction)"
   ]
  },
  {
   "cell_type": "code",
   "execution_count": 9,
   "metadata": {},
   "outputs": [
    {
     "data": {
      "text/plain": [
       "['Speaker 1',\n",
       " 'Speaker 2',\n",
       " 'Speaker 2',\n",
       " 'Speaker 4',\n",
       " 'Speaker 2',\n",
       " 'Speaker 1',\n",
       " 'Speaker 3',\n",
       " 'Speaker 4',\n",
       " 'Speaker 3',\n",
       " 'Speaker 4',\n",
       " 'Speaker 4',\n",
       " 'Speaker 2',\n",
       " 'Speaker 4',\n",
       " 'Speaker 2']"
      ]
     },
     "execution_count": 9,
     "metadata": {},
     "output_type": "execute_result"
    }
   ],
   "source": [
    "prediction['x']"
   ]
  },
  {
   "cell_type": "code",
   "execution_count": 37,
   "metadata": {},
   "outputs": [
    {
     "ename": "KeyError",
     "evalue": "0",
     "output_type": "error",
     "traceback": [
      "\u001b[0;31m---------------------------------------------------------------------------\u001b[0m",
      "\u001b[0;31mKeyError\u001b[0m                                  Traceback (most recent call last)",
      "Cell \u001b[0;32mIn[37], line 1\u001b[0m\n\u001b[0;32m----> 1\u001b[0m \u001b[38;5;28;01massert\u001b[39;00m \u001b[38;5;28mall\u001b[39m([\u001b[38;5;28mlen\u001b[39m(prediction[key])\u001b[38;5;241m==\u001b[39m\u001b[38;5;28mlen\u001b[39m(\u001b[43mprediction\u001b[49m\u001b[43m[\u001b[49m\u001b[38;5;241;43m0\u001b[39;49m\u001b[43m]\u001b[49m) \u001b[38;5;28;01mfor\u001b[39;00m key \u001b[38;5;129;01min\u001b[39;00m prediction])\n",
      "\u001b[0;31mKeyError\u001b[0m: 0"
     ]
    }
   ],
   "source": [
    "assert all([len(prediction[key])==len(prediction[0]) for key in prediction])"
   ]
  },
  {
   "cell_type": "code",
   "execution_count": 44,
   "metadata": {},
   "outputs": [
    {
     "data": {
      "text/plain": [
       "[True, True, True, True, False, False, False]"
      ]
     },
     "execution_count": 44,
     "metadata": {},
     "output_type": "execute_result"
    }
   ],
   "source": [
    "[len(prediction[key])==len(prediction['x']) for key in prediction]"
   ]
  },
  {
   "cell_type": "code",
   "execution_count": 8,
   "metadata": {},
   "outputs": [
    {
     "name": "stdout",
     "output_type": "stream",
     "text": [
      "\n",
      "f1 score:  0.19047619047619047\n"
     ]
    }
   ],
   "source": [
    "def f1_score(predictions, references):\n",
    "    tp = 0\n",
    "    for pred in predictions:\n",
    "        if pred in references:\n",
    "            tp += 1\n",
    "    \n",
    "    precision = tp / len(predictions)\n",
    "    recall = tp / len(references)\n",
    "    f1 = 2 * precision * recall / (precision + recall)\n",
    "    return f1\n",
    "\n",
    "# from sklearn.metrics import f1_score\n",
    "# from sklearn import preprocessing\n",
    "\n",
    "relation_pred = []\n",
    "for x, y, rids in zip(prediction['x'], prediction['y'], prediction['rid']):\n",
    "    x = x.strip().lower().replace(' ', '')\n",
    "    y = y.strip().lower().replace(' ', '')\n",
    "    for rid in rids:\n",
    "        relation = str(rid)+''.join(sorted([x, y], key=lambda x: x[0]))\n",
    "        relation_pred.append(relation)\n",
    "print()\n",
    "\n",
    "relation_ref = []\n",
    "for x, y, rids in zip(ref['x'], ref['y'], ref['rid']):\n",
    "    x = x.strip().lower().replace(' ', '')\n",
    "    y = y.strip().lower().replace(' ', '')\n",
    "    for rid in rids:\n",
    "        relation = str(rid)+''.join(sorted([x, y], key=lambda x: x[0]))\n",
    "        relation_ref.append(relation)\n",
    "\n",
    "print('f1 score: ', f1_score(relation_pred, relation_ref))\n",
    "# # 레이블 인코더 생성\n",
    "# le = preprocessing.LabelEncoder()\n",
    "\n",
    "# # 레이블 인코딩\n",
    "# relation_ref = le.fit_transform(relation_ref)\n",
    "# relation_pred = le.transform(relation_pred)\n",
    "# f1_score(y_pred=relation_pred, y_true=relation_ref)"
   ]
  },
  {
   "cell_type": "code",
   "execution_count": 58,
   "metadata": {},
   "outputs": [
    {
     "data": {
      "text/plain": [
       "['30chandlerbingspeaker2',\n",
       " '4speaker2speaker4',\n",
       " '30speaker4tomgordon',\n",
       " '4speaker4speaker2',\n",
       " '1speaker4speaker2',\n",
       " '30speaker4tommy',\n",
       " '37speaker1tommy']"
      ]
     },
     "execution_count": 58,
     "metadata": {},
     "output_type": "execute_result"
    }
   ],
   "source": [
    "relation_ref"
   ]
  },
  {
   "cell_type": "code",
   "execution_count": 65,
   "metadata": {},
   "outputs": [
    {
     "data": {
      "text/plain": [
       "array([1, 5, 2, 6, 0, 3, 4])"
      ]
     },
     "execution_count": 65,
     "metadata": {},
     "output_type": "execute_result"
    }
   ],
   "source": [
    "relation_ref"
   ]
  },
  {
   "cell_type": "code",
   "execution_count": 66,
   "metadata": {},
   "outputs": [
    {
     "data": {
      "text/plain": [
       "['30speaker1speaker1',\n",
       " '4speaker2speaker2',\n",
       " '4speaker2speaker4',\n",
       " '30chandlerbingspeaker4',\n",
       " '1chandlerbingspeaker4',\n",
       " '30speaker2tomgordon',\n",
       " '37rossspeaker1',\n",
       " '1speaker3speaker3',\n",
       " '30speaker4speaker4',\n",
       " '1speaker3speaker3',\n",
       " '30speaker4speaker4',\n",
       " '30speaker4speaker4',\n",
       " '37speaker2tommy',\n",
       " '1speaker4speaker2']"
      ]
     },
     "execution_count": 66,
     "metadata": {},
     "output_type": "execute_result"
    }
   ],
   "source": [
    "relation_pred"
   ]
  },
  {
   "cell_type": "code",
   "execution_count": null,
   "metadata": {},
   "outputs": [],
   "source": []
  }
 ],
 "metadata": {
  "kernelspec": {
   "display_name": "gollie",
   "language": "python",
   "name": "python3"
  },
  "language_info": {
   "codemirror_mode": {
    "name": "ipython",
    "version": 3
   },
   "file_extension": ".py",
   "mimetype": "text/x-python",
   "name": "python",
   "nbconvert_exporter": "python",
   "pygments_lexer": "ipython3",
   "version": "3.12.2"
  }
 },
 "nbformat": 4,
 "nbformat_minor": 2
}
