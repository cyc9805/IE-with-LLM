{
 "cells": [
  {
   "cell_type": "code",
   "execution_count": 2,
   "metadata": {},
   "outputs": [],
   "source": [
    "text = 'assistant\\n\\nHere is the output:\\n\\n{\\n  \"x\": [\"Speaker 1\", \"Speaker 2\", \"Speaker 2\", \"Speaker 4\", \"Speaker 2\", \"Speaker 1\", \"Speaker 3\", \"Speaker 4\", \"Speaker 3\", \"Speaker 4\", \"Speaker 4\", \"Speaker 2\", \"Speaker 4\", \"Speaker 2\"],\\n  \"y\": [\"Speaker 1\", \"Speaker 2\", \"Speaker 4\", \"Chandler Bing\", \"Tom Gordon\", \"Ross\", \"Speaker 3\", \"Speaker 4\", \"Speaker 3\", \"Speaker 4\", \"Speaker 4\", \"Tommy\", \"Speaker 2\", \"Speaker 4\"],\\n  \"x_type\": [\"PER\", \"PER\", \"PER\", \"PER\", \"PER\", \"PER\", \"PER\", \"PER\", \"PER\", \"PER\", \"PER\", \"PER\", \"PER\", \"PER\"],\\n  \"y_type\": [\"PER\", \"PER\", \"PER\", \"PER\", \"PER\", \"PER\", \"PER\", \"PER\", \"PER\", \"PER\", \"PER\", \"PER\", \"PER\", \"PER\"],\\n  \"r\": [[\"per:alternate_names\"], [\"per:alumni\"], [\"per:alumni\"], [\"per:alternate_names\", \"per:positive_impression\"], [\"per:alternate_names\"], [\"unanswerable\"], [\"per:positive_impression\"], [\"per:alternate_names\"], [\"per:positive_impression\"], [\"per:alternate_names\"], [\"per:alternate_names\"], [\"unanswerable\"], [\"per:positive_impression\"]],\\n  \"rid\": [[30], [4], [4], [30, 1], [30], [37], [1], [30], [1], [30], [30], [37], [1]],\\n  \"t\": [[\"\"], [\"\", \"call me\"], [\"\", \"bye bye!!\"], [\"\", \"call me\"], [\"\", \"call me\"], [\"\", \"call me\"], [\"\", \"call me\"], [\"\", \"call me\"], [\"\", \"call me\"], [\"\", \"call me\"], [\"\", \"call me\"], [\"\", \"call me\"], [\"\"]]\\n}'"
   ]
  },
  {
   "cell_type": "code",
   "execution_count": 3,
   "metadata": {},
   "outputs": [
    {
     "data": {
      "text/plain": [
       "'{\\n  \"x\": [\"Speaker 1\", \"Speaker 2\", \"Speaker 2\", \"Speaker 4\", \"Speaker 2\", \"Speaker 1\", \"Speaker 3\", \"Speaker 4\", \"Speaker 3\", \"Speaker 4\", \"Speaker 4\", \"Speaker 2\", \"Speaker 4\", \"Speaker 2\"],\\n  \"y\": [\"Speaker 1\", \"Speaker 2\", \"Speaker 4\", \"Chandler Bing\", \"Tom Gordon\", \"Ross\", \"Speaker 3\", \"Speaker 4\", \"Speaker 3\", \"Speaker 4\", \"Speaker 4\", \"Tommy\", \"Speaker 2\", \"Speaker 4\"],\\n  \"x_type\": [\"PER\", \"PER\", \"PER\", \"PER\", \"PER\", \"PER\", \"PER\", \"PER\", \"PER\", \"PER\", \"PER\", \"PER\", \"PER\", \"PER\"],\\n  \"y_type\": [\"PER\", \"PER\", \"PER\", \"PER\", \"PER\", \"PER\", \"PER\", \"PER\", \"PER\", \"PER\", \"PER\", \"PER\", \"PER\", \"PER\"],\\n  \"r\": [[\"per:alternate_names\"], [\"per:alumni\"], [\"per:alumni\"], [\"per:alternate_names\", \"per:positive_impression\"], [\"per:alternate_names\"], [\"unanswerable\"], [\"per:positive_impression\"], [\"per:alternate_names\"], [\"per:positive_impression\"], [\"per:alternate_names\"], [\"per:alternate_names\"], [\"unanswerable\"], [\"per:positive_impression\"]],\\n  \"rid\": [[30], [4], [4], [30, 1], [30], [37], [1], [30], [1], [30], [30], [37], [1]],\\n  \"t\": [[\"\"], [\"\", \"call me\"], [\"\", \"bye bye!!\"], [\"\", \"call me\"], [\"\", \"call me\"], [\"\", \"call me\"], [\"\", \"call me\"], [\"\", \"call me\"], [\"\", \"call me\"], [\"\", \"call me\"], [\"\", \"call me\"], [\"\", \"call me\"], [\"\"]]\\n}'"
      ]
     },
     "execution_count": 3,
     "metadata": {},
     "output_type": "execute_result"
    }
   ],
   "source": [
    "import json\n",
    "import re\n",
    "lstripped = text[text.find('{'):]\n",
    "text = lstripped[:lstripped.rfind('}')+1]\n",
    "text"
   ]
  },
  {
   "cell_type": "code",
   "execution_count": 5,
   "metadata": {},
   "outputs": [],
   "source": [
    "import evaluate\n",
    "ref_text = '{ \"x\": [ \"Speaker 2\", \"Speaker 2\", \"Speaker 4\", \"Speaker 4\", \"Speaker 4\", \"Speaker 1\" ], \"y\": [ \"Chandler Bing\", \"Speaker 4\", \"Tom Gordon\", \"Speaker 2\", \"Tommy\", \"Tommy\" ], \"x_type\": [ \"PER\", \"PER\", \"PER\", \"PER\", \"PER\", \"PER\" ], \"y_type\": [ \"PER\", \"PER\", \"PER\", \"PER\", \"PER\", \"PER\" ], \"r\": [ [ \"per:alternate_names\" ], [ \"per:alumni\" ], [ \"per:alternate_names\" ], [ \"per:alumni\", \"per:positive_impression\" ], [ \"per:alternate_names\" ], [ \"unanswerable\" ] ], \"rid\": [ [ 30 ], [ 4 ], [ 30 ], [ 4, 1 ], [ 30 ], [ 37 ] ], \"t\": [ [ \"\" ], [ \"\" ], [ \"\" ], [ \"\", \"call me\" ], [ \"\" ], [ \"\" ] ] }'\n",
    "ref = json.loads(ref_text)\n",
    "prediction = json.loads(text)"
   ]
  },
  {
   "cell_type": "code",
   "execution_count": 6,
   "metadata": {},
   "outputs": [
    {
     "name": "stdout",
     "output_type": "stream",
     "text": [
      "{'x': ['Speaker 2', 'Speaker 2', 'Speaker 4', 'Speaker 4', 'Speaker 4', 'Speaker 1'], 'y': ['Chandler Bing', 'Speaker 4', 'Tom Gordon', 'Speaker 2', 'Tommy', 'Tommy'], 'x_type': ['PER', 'PER', 'PER', 'PER', 'PER', 'PER'], 'y_type': ['PER', 'PER', 'PER', 'PER', 'PER', 'PER'], 'r': [['per:alternate_names'], ['per:alumni'], ['per:alternate_names'], ['per:alumni', 'per:positive_impression'], ['per:alternate_names'], ['unanswerable']], 'rid': [[30], [4], [30], [4, 1], [30], [37]], 't': [[''], [''], [''], ['', 'call me'], [''], ['']]}\n"
     ]
    }
   ],
   "source": [
    "print(ref)"
   ]
  },
  {
   "cell_type": "code",
   "execution_count": 7,
   "metadata": {},
   "outputs": [
    {
     "name": "stdout",
     "output_type": "stream",
     "text": [
      "{'x': ['Speaker 1', 'Speaker 2', 'Speaker 2', 'Speaker 4', 'Speaker 2', 'Speaker 1', 'Speaker 3', 'Speaker 4', 'Speaker 3', 'Speaker 4', 'Speaker 4', 'Speaker 2', 'Speaker 4', 'Speaker 2'], 'y': ['Speaker 1', 'Speaker 2', 'Speaker 4', 'Chandler Bing', 'Tom Gordon', 'Ross', 'Speaker 3', 'Speaker 4', 'Speaker 3', 'Speaker 4', 'Speaker 4', 'Tommy', 'Speaker 2', 'Speaker 4'], 'x_type': ['PER', 'PER', 'PER', 'PER', 'PER', 'PER', 'PER', 'PER', 'PER', 'PER', 'PER', 'PER', 'PER', 'PER'], 'y_type': ['PER', 'PER', 'PER', 'PER', 'PER', 'PER', 'PER', 'PER', 'PER', 'PER', 'PER', 'PER', 'PER', 'PER'], 'r': [['per:alternate_names'], ['per:alumni'], ['per:alumni'], ['per:alternate_names', 'per:positive_impression'], ['per:alternate_names'], ['unanswerable'], ['per:positive_impression'], ['per:alternate_names'], ['per:positive_impression'], ['per:alternate_names'], ['per:alternate_names'], ['unanswerable'], ['per:positive_impression']], 'rid': [[30], [4], [4], [30, 1], [30], [37], [1], [30], [1], [30], [30], [37], [1]], 't': [[''], ['', 'call me'], ['', 'bye bye!!'], ['', 'call me'], ['', 'call me'], ['', 'call me'], ['', 'call me'], ['', 'call me'], ['', 'call me'], ['', 'call me'], ['', 'call me'], ['', 'call me'], ['']]}\n"
     ]
    }
   ],
   "source": [
    "print(prediction)"
   ]
  },
  {
   "cell_type": "code",
   "execution_count": 9,
   "metadata": {},
   "outputs": [
    {
     "data": {
      "text/plain": [
       "['Speaker 1',\n",
       " 'Speaker 2',\n",
       " 'Speaker 2',\n",
       " 'Speaker 4',\n",
       " 'Speaker 2',\n",
       " 'Speaker 1',\n",
       " 'Speaker 3',\n",
       " 'Speaker 4',\n",
       " 'Speaker 3',\n",
       " 'Speaker 4',\n",
       " 'Speaker 4',\n",
       " 'Speaker 2',\n",
       " 'Speaker 4',\n",
       " 'Speaker 2']"
      ]
     },
     "execution_count": 9,
     "metadata": {},
     "output_type": "execute_result"
    }
   ],
   "source": [
    "prediction['x']"
   ]
  },
  {
   "cell_type": "code",
   "execution_count": 37,
   "metadata": {},
   "outputs": [
    {
     "ename": "KeyError",
     "evalue": "0",
     "output_type": "error",
     "traceback": [
      "\u001b[0;31m---------------------------------------------------------------------------\u001b[0m",
      "\u001b[0;31mKeyError\u001b[0m                                  Traceback (most recent call last)",
      "Cell \u001b[0;32mIn[37], line 1\u001b[0m\n\u001b[0;32m----> 1\u001b[0m \u001b[38;5;28;01massert\u001b[39;00m \u001b[38;5;28mall\u001b[39m([\u001b[38;5;28mlen\u001b[39m(prediction[key])\u001b[38;5;241m==\u001b[39m\u001b[38;5;28mlen\u001b[39m(\u001b[43mprediction\u001b[49m\u001b[43m[\u001b[49m\u001b[38;5;241;43m0\u001b[39;49m\u001b[43m]\u001b[49m) \u001b[38;5;28;01mfor\u001b[39;00m key \u001b[38;5;129;01min\u001b[39;00m prediction])\n",
      "\u001b[0;31mKeyError\u001b[0m: 0"
     ]
    }
   ],
   "source": [
    "assert all([len(prediction[key])==len(prediction[0]) for key in prediction])"
   ]
  },
  {
   "cell_type": "code",
   "execution_count": 44,
   "metadata": {},
   "outputs": [
    {
     "data": {
      "text/plain": [
       "[True, True, True, True, False, False, False]"
      ]
     },
     "execution_count": 44,
     "metadata": {},
     "output_type": "execute_result"
    }
   ],
   "source": [
    "[len(prediction[key])==len(prediction['x']) for key in prediction]"
   ]
  },
  {
   "cell_type": "code",
   "execution_count": 8,
   "metadata": {},
   "outputs": [
    {
     "name": "stdout",
     "output_type": "stream",
     "text": [
      "\n",
      "f1 score:  0.19047619047619047\n"
     ]
    }
   ],
   "source": [
    "def f1_score(predictions, references):\n",
    "    tp = 0\n",
    "    for pred in predictions:\n",
    "        if pred in references:\n",
    "            tp += 1\n",
    "    \n",
    "    precision = tp / len(predictions)\n",
    "    recall = tp / len(references)\n",
    "    f1 = 2 * precision * recall / (precision + recall)\n",
    "    return f1\n",
    "\n",
    "# from sklearn.metrics import f1_score\n",
    "# from sklearn import preprocessing\n",
    "\n",
    "relation_pred = []\n",
    "for x, y, rids in zip(prediction['x'], prediction['y'], prediction['rid']):\n",
    "    x = x.strip().lower().replace(' ', '')\n",
    "    y = y.strip().lower().replace(' ', '')\n",
    "    for rid in rids:\n",
    "        relation = str(rid)+''.join(sorted([x, y], key=lambda x: x[0]))\n",
    "        relation_pred.append(relation)\n",
    "print()\n",
    "\n",
    "relation_ref = []\n",
    "for x, y, rids in zip(ref['x'], ref['y'], ref['rid']):\n",
    "    x = x.strip().lower().replace(' ', '')\n",
    "    y = y.strip().lower().replace(' ', '')\n",
    "    for rid in rids:\n",
    "        relation = str(rid)+''.join(sorted([x, y], key=lambda x: x[0]))\n",
    "        relation_ref.append(relation)\n",
    "\n",
    "print('f1 score: ', f1_score(relation_pred, relation_ref))\n",
    "# # 레이블 인코더 생성\n",
    "# le = preprocessing.LabelEncoder()\n",
    "\n",
    "# # 레이블 인코딩\n",
    "# relation_ref = le.fit_transform(relation_ref)\n",
    "# relation_pred = le.transform(relation_pred)\n",
    "# f1_score(y_pred=relation_pred, y_true=relation_ref)"
   ]
  },
  {
   "cell_type": "code",
   "execution_count": 58,
   "metadata": {},
   "outputs": [
    {
     "data": {
      "text/plain": [
       "['30chandlerbingspeaker2',\n",
       " '4speaker2speaker4',\n",
       " '30speaker4tomgordon',\n",
       " '4speaker4speaker2',\n",
       " '1speaker4speaker2',\n",
       " '30speaker4tommy',\n",
       " '37speaker1tommy']"
      ]
     },
     "execution_count": 58,
     "metadata": {},
     "output_type": "execute_result"
    }
   ],
   "source": [
    "relation_ref"
   ]
  },
  {
   "cell_type": "code",
   "execution_count": 65,
   "metadata": {},
   "outputs": [
    {
     "data": {
      "text/plain": [
       "array([1, 5, 2, 6, 0, 3, 4])"
      ]
     },
     "execution_count": 65,
     "metadata": {},
     "output_type": "execute_result"
    }
   ],
   "source": [
    "relation_ref"
   ]
  },
  {
   "cell_type": "code",
   "execution_count": 66,
   "metadata": {},
   "outputs": [
    {
     "data": {
      "text/plain": [
       "['30speaker1speaker1',\n",
       " '4speaker2speaker2',\n",
       " '4speaker2speaker4',\n",
       " '30chandlerbingspeaker4',\n",
       " '1chandlerbingspeaker4',\n",
       " '30speaker2tomgordon',\n",
       " '37rossspeaker1',\n",
       " '1speaker3speaker3',\n",
       " '30speaker4speaker4',\n",
       " '1speaker3speaker3',\n",
       " '30speaker4speaker4',\n",
       " '30speaker4speaker4',\n",
       " '37speaker2tommy',\n",
       " '1speaker4speaker2']"
      ]
     },
     "execution_count": 66,
     "metadata": {},
     "output_type": "execute_result"
    }
   ],
   "source": [
    "relation_pred"
   ]
  },
  {
   "cell_type": "code",
   "execution_count": 20,
   "metadata": {},
   "outputs": [],
   "source": [
    "input_text = '''You are a helpful assistance that is designed to extract relational information which is inherent in the dialogue input.\n",
    "You will be given a The dialogue input, Subject entity, and Object entity. Your job is to extract the relation between the Subject entity and Object entity from the dialogue input.\n",
    "All possible relationships are listed below:\n",
    "\n",
    "per:positive_impression \n",
    "per:negative_impression \n",
    "per:acquaintance \n",
    "per:alumni \n",
    "per:boss \n",
    "per:subordinate \n",
    "per:client \n",
    "per:dates \n",
    "per:friends \n",
    "per:girl/boyfriend \n",
    "per:neighbor \n",
    "per:roommate \n",
    "per:children \n",
    "per:other_family \n",
    "per:parents \n",
    "per:siblings \n",
    "per:spouse \n",
    "per:place_of_residence \n",
    "per:place_of_birth \n",
    "per:visited_place \n",
    "per:origin \n",
    "per:employee_or_member of \n",
    "per:schools_attended \n",
    "per:works \n",
    "per:age \n",
    "per:date_of_birth \n",
    "per:major \n",
    "per:place_of_work \n",
    "per:title \n",
    "per:alternate_names\n",
    "per:pet \n",
    "gpe:residents_of_place \n",
    "gpe:births_in_place\n",
    "gpe:visitors_of_place \n",
    "org:employees_or_members \n",
    "org:students \n",
    "unanswerable\n",
    "\n",
    "Output the final structure as a python list of JSON dictionary, such as [{\"\"relation\"\": \"\"per:friends\"\"}, {\"\"relation\"\": \"\"per:alumni\"\"}].\n",
    "Do not provide any explanation for your answer.\n",
    "For the given dialog input, subject entity and object entity pair, extract as many relations as possible from listed relationships.user\n",
    "\n",
    "The dialogue input: [\"\"Speaker 1: Hey, you guys! Look what I found! Look at this!  That’s my Mom’s writing! Look.\"\", \"\"Speaker 2: Me and Frank and Phoebe, Graduation 1965.\"\", \"\"Speaker 1: Y'know what that means?\"\", \"\"Speaker 3: That you’re actually 50?\"\", \"\"Speaker 1: No-no, that’s not, that’s not me Phoebe, that’s her pal Phoebe. According to her high school yearbook, they were like B.F.F. Best Friends Forever.\"\", \"\"Speaker 4: Oh!\"\", \"\"Speaker 5: That is so cool.\"\", \"\"Speaker 1: I know! So this woman probably could like have all kinds of stories about my parents, and she might even know like where my Dad is. So I looked her up, and she lives out by the beach. So maybe this weekend we could go to the beach?\"\", \"\"Speaker 4: Yeah! Yeah, we can!\"\", \"\"Speaker 6: Shoot! I can’t go, I have to work!\"\", \"\"Speaker 7: That’s too bad.\"\", \"\"Speaker 5: Ohh, big, fat bummerrr.\"\", \"\"Speaker 1: So great! Okay! Tomorrow we’re gonna drive out to Montauk.\"\"]\n",
    "Subject entity: Speaker 1\n",
    "Object entity: Montauk\n",
    "'''"
   ]
  },
  {
   "cell_type": "code",
   "execution_count": 21,
   "metadata": {},
   "outputs": [
    {
     "name": "stdout",
     "output_type": "stream",
     "text": [
      "[[49.673973083496094, 45.1126823425293, 58.66440963745117, 52.1108512878418, 50.1920166015625]]\n"
     ]
    }
   ],
   "source": [
    "# Requires transformers>=4.36.0\n",
    "import torch.nn.functional as F\n",
    "from transformers import AutoModel, AutoTokenizer\n",
    "\n",
    "input_texts = [\n",
    "    input_text,\n",
    "    \"per:positive_impression\",\n",
    "    \"per:negative_impression\",\n",
    "    \"per:place_of_residence\",\n",
    "    \"per:visited_place\",\n",
    "    \"unanswerable\",\n",
    "]\n",
    "\n",
    "model_path = 'Alibaba-NLP/gte-large-en-v1.5'\n",
    "tokenizer = AutoTokenizer.from_pretrained(model_path)\n",
    "model = AutoModel.from_pretrained(model_path, trust_remote_code=True)\n",
    "\n",
    "# Tokenize the input texts\n",
    "batch_dict = tokenizer(input_texts, max_length=8192, padding=True, truncation=True, return_tensors='pt')\n",
    "\n",
    "outputs = model(**batch_dict)\n",
    "\n",
    "# Pick the first element (CLS token) from the output of the last layer <-- This represents the embedding of entire sentence\n",
    "embeddings = outputs.last_hidden_state[:, 0]\n",
    " \n",
    "# (Optionally) normalize embeddings\n",
    "embeddings = F.normalize(embeddings, p=2, dim=1)\n",
    "scores = (embeddings[:1] @ embeddings[1:].T) * 100\n",
    "print(scores.tolist())"
   ]
  },
  {
   "cell_type": "code",
   "execution_count": null,
   "metadata": {},
   "outputs": [],
   "source": [
    "from transformers import PreTrainedModel\n",
    "\n",
    "class llamaForIe(PreTrainedModel):\n",
    "    "
   ]
  },
  {
   "cell_type": "code",
   "execution_count": 19,
   "metadata": {},
   "outputs": [
    {
     "name": "stdout",
     "output_type": "stream",
     "text": [
      "torch.Size([4, 1024])\n",
      "torch.Size([4, 10, 1024])\n"
     ]
    }
   ],
   "source": [
    "# This creates embeddings for the entire sentences\n",
    "print(embeddings.shape)\n",
    "\n",
    "# This creates embeddings for each words in input sentences\n",
    "print(outputs.last_hidden_state.shape)"
   ]
  },
  {
   "cell_type": "code",
   "execution_count": 14,
   "metadata": {},
   "outputs": [
    {
     "data": {
      "text/plain": [
       "torch.Size([4, 10])"
      ]
     },
     "execution_count": 14,
     "metadata": {},
     "output_type": "execute_result"
    }
   ],
   "source": [
    "batch_dict['input_ids'].shape"
   ]
  },
  {
   "cell_type": "code",
   "execution_count": 8,
   "metadata": {},
   "outputs": [
    {
     "data": {
      "text/plain": [
       "torch.Size([4, 1024])"
      ]
     },
     "execution_count": 8,
     "metadata": {},
     "output_type": "execute_result"
    }
   ],
   "source": [
    "embeddings.shape"
   ]
  },
  {
   "cell_type": "code",
   "execution_count": null,
   "metadata": {},
   "outputs": [],
   "source": []
  }
 ],
 "metadata": {
  "kernelspec": {
   "display_name": "gollie",
   "language": "python",
   "name": "python3"
  },
  "language_info": {
   "codemirror_mode": {
    "name": "ipython",
    "version": 3
   },
   "file_extension": ".py",
   "mimetype": "text/x-python",
   "name": "python",
   "nbconvert_exporter": "python",
   "pygments_lexer": "ipython3",
   "version": "3.12.2"
  }
 },
 "nbformat": 4,
 "nbformat_minor": 2
}
